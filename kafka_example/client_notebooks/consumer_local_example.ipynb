{
 "cells": [
  {
   "cell_type": "code",
   "execution_count": 6,
   "id": "b152a484-14df-4835-a31c-36e806ed917f",
   "metadata": {},
   "outputs": [],
   "source": [
    "from confluent_kafka import Consumer\n",
    "\n",
    "conf = {'bootstrap.servers': \"localhost:9092\",\n",
    "        'group.id': \"foo\",\n",
    "        'enable.auto.commit': False,\n",
    "        'auto.offset.reset': 'earliest'}\n",
    "\n",
    "consumer = Consumer(conf)"
   ]
  },
  {
   "cell_type": "code",
   "execution_count": 7,
   "id": "fe58d7c8-586f-4437-b4a7-6dbc40be9798",
   "metadata": {},
   "outputs": [],
   "source": [
    "consumer.subscribe([\"mlops-topic\"])"
   ]
  },
  {
   "cell_type": "code",
   "execution_count": 14,
   "id": "8fb97686-4c56-4c73-a359-bc344576ea2e",
   "metadata": {},
   "outputs": [],
   "source": [
    "msg = consumer.poll(timeout=1.0)"
   ]
  },
  {
   "cell_type": "code",
   "execution_count": 15,
   "id": "1327eec3-e411-4749-b666-698381a3f3f8",
   "metadata": {},
   "outputs": [
    {
     "data": {
      "text/plain": [
       "b'this is mlops course 3'"
      ]
     },
     "execution_count": 15,
     "metadata": {},
     "output_type": "execute_result"
    }
   ],
   "source": [
    "msg.value()"
   ]
  },
  {
   "cell_type": "code",
   "execution_count": 5,
   "id": "f9008409-40f4-4466-8462-6de38feb36e7",
   "metadata": {},
   "outputs": [],
   "source": [
    "consumer.close()"
   ]
  },
  {
   "cell_type": "code",
   "execution_count": null,
   "id": "357d6527-f084-4823-9962-77c3a5965785",
   "metadata": {},
   "outputs": [],
   "source": []
  }
 ],
 "metadata": {
  "kernelspec": {
   "display_name": "Python 3",
   "language": "python",
   "name": "python3"
  },
  "language_info": {
   "codemirror_mode": {
    "name": "ipython",
    "version": 3
   },
   "file_extension": ".py",
   "mimetype": "text/x-python",
   "name": "python",
   "nbconvert_exporter": "python",
   "pygments_lexer": "ipython3",
   "version": "3.8.2"
  }
 },
 "nbformat": 4,
 "nbformat_minor": 5
}
