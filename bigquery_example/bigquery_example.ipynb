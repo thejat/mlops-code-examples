{
 "cells": [
  {
   "cell_type": "code",
   "execution_count": null,
   "metadata": {},
   "outputs": [],
   "source": [
    "import pandas as pd\n",
    "df = pd.DataFrame(data={'uid':[1],'rec':[1],'pred_time':[1]})\n",
    "df"
   ]
  },
  {
   "cell_type": "code",
   "execution_count": null,
   "metadata": {},
   "outputs": [],
   "source": [
    "#Send predictions to BigQuery\n",
    "from google.oauth2 import service_account\n",
    "import pandas_gbq\n",
    "table_id = \"movie_recommendation_service.predicted_movies\" #change this\n",
    "project_id = \"authentic-realm-276822\" #change this\n",
    "credentials = service_account.Credentials.from_service_account_file('../model-user.json') #change this\n",
    "pandas_gbq.to_gbq(df, table_id, project_id=project_id, if_exists = 'replace', credentials=credentials)"
   ]
  },
  {
   "cell_type": "code",
   "execution_count": null,
   "metadata": {},
   "outputs": [],
   "source": [
    "#Read predictions from BigQuery\n",
    "import pandas as pd\n",
    "from google.cloud import bigquery\n",
    "import os\n",
    "os.environ['GOOGLE_APPLICATION_CREDENTIALS'] = './model-user.json'\n",
    "client = bigquery.Client()\n",
    "sql = \"select * from movie_recommendation_service.predicted_movies\"\n",
    "df = client.query(sql).to_dataframe()\n",
    "df.head()"
   ]
  }
 ],
 "metadata": {
  "kernelspec": {
   "display_name": "Python 3 (ipykernel)",
   "language": "python",
   "name": "python3"
  },
  "language_info": {
   "codemirror_mode": {
    "name": "ipython",
    "version": 3
   },
   "file_extension": ".py",
   "mimetype": "text/x-python",
   "name": "python",
   "nbconvert_exporter": "python",
   "pygments_lexer": "ipython3",
   "version": "3.7.6"
  }
 },
 "nbformat": 4,
 "nbformat_minor": 4
}
