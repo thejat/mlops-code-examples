{
 "cells": [
  {
   "cell_type": "code",
   "execution_count": 1,
   "id": "c8be037a-946a-4174-b264-a6fb23692a3f",
   "metadata": {},
   "outputs": [],
   "source": [
    "from confluent_kafka import Consumer\n",
    "\n",
    "conf = {'bootstrap.servers': \"localhost:9092\",\n",
    "        'group.id': \"foo4\",\n",
    "        'enable.auto.commit': False,\n",
    "        'auto.offset.reset': 'earliest'}\n",
    "\n",
    "consumer = Consumer(conf)"
   ]
  },
  {
   "cell_type": "code",
   "execution_count": 2,
   "id": "6b446731-c8a4-4402-89f3-8beb9352ddb3",
   "metadata": {},
   "outputs": [],
   "source": [
    "consumer.subscribe([\"mlops-topic\"])"
   ]
  },
  {
   "cell_type": "code",
   "execution_count": 5,
   "id": "cc869a19-6959-47b1-a664-0b3336785fc0",
   "metadata": {},
   "outputs": [
    {
     "data": {
      "text/plain": [
       "b'this is mlops course 3'"
      ]
     },
     "execution_count": 5,
     "metadata": {},
     "output_type": "execute_result"
    }
   ],
   "source": [
    "msg = consumer.poll(timeout=1.0)\n",
    "msg.value()"
   ]
  },
  {
   "cell_type": "code",
   "execution_count": null,
   "id": "c0e34d9b-d004-47e9-8c02-3337837b8a2c",
   "metadata": {},
   "outputs": [],
   "source": []
  },
  {
   "cell_type": "code",
   "execution_count": null,
   "id": "2b92160e-9991-4f61-96ff-79c08cb5af99",
   "metadata": {},
   "outputs": [],
   "source": []
  }
 ],
 "metadata": {
  "kernelspec": {
   "display_name": "Python 3",
   "language": "python",
   "name": "python3"
  },
  "language_info": {
   "codemirror_mode": {
    "name": "ipython",
    "version": 3
   },
   "file_extension": ".py",
   "mimetype": "text/x-python",
   "name": "python",
   "nbconvert_exporter": "python",
   "pygments_lexer": "ipython3",
   "version": "3.8.2"
  }
 },
 "nbformat": 4,
 "nbformat_minor": 5
}
